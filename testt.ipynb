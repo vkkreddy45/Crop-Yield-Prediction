{
 "cells": [
  {
   "cell_type": "code",
   "execution_count": 1,
   "metadata": {},
   "outputs": [],
   "source": [
    "import pandas as pd\n",
    "import numpy as np\n",
    "import matplotlib.pyplot as plt\n",
    "from sklearn.model_selection import train_test_split\n",
    "from sklearn.preprocessing import MinMaxScaler\n",
    "from scipy.stats import t\n",
    "from sklearn.metrics import r2_score\n",
    "import pickle\n",
    "import math\n",
    "import warnings\n",
    "warnings.filterwarnings('ignore')\n",
    "import time"
   ]
  },
  {
   "cell_type": "code",
   "execution_count": 2,
   "metadata": {},
   "outputs": [],
   "source": [
    "# Importing the data\n",
    "df1=pd.read_csv(\"/Users/kranthireddy/Documents/OU 3rd SEM/Data Mining/Final/Project/Datasets/pesticides.csv\")\n",
    "df2=pd.read_csv(\"/Users/kranthireddy/Documents/OU 3rd SEM/Data Mining/Final/Project/Datasets/rainfall.csv\")\n",
    "df3=pd.read_csv(\"/Users/kranthireddy/Documents/OU 3rd SEM/Data Mining/Final/Project/Datasets/temp.csv\")\n",
    "df4=pd.read_csv(\"/Users/kranthireddy/Documents/OU 3rd SEM/Data Mining/Final/Project/Datasets/yield.csv\")"
   ]
  },
  {
   "cell_type": "code",
   "execution_count": 3,
   "metadata": {},
   "outputs": [
    {
     "name": "stdout",
     "output_type": "stream",
     "text": [
      "Initial DataFrame after merging \n",
      "            Area  Year  Pesticides (in tonnes)  average_rain_fall_mm_per_year  \\\n",
      "0       Albania  1990                  121.00                         1485.0   \n",
      "1       Albania  1990                  121.00                         1485.0   \n",
      "2       Albania  1990                  121.00                         1485.0   \n",
      "3       Albania  1990                  121.00                         1485.0   \n",
      "4       Albania  1990                  121.00                         1485.0   \n",
      "...         ...   ...                     ...                            ...   \n",
      "28243  Zimbabwe  2013                 2550.07                          657.0   \n",
      "28244  Zimbabwe  2013                 2550.07                          657.0   \n",
      "28245  Zimbabwe  2013                 2550.07                          657.0   \n",
      "28246  Zimbabwe  2013                 2550.07                          657.0   \n",
      "28247  Zimbabwe  2013                 2550.07                          657.0   \n",
      "\n",
      "       avg_temp            Item  hg/ha_yield  \n",
      "0         16.37           Maize        36613  \n",
      "1         16.37        Potatoes        66667  \n",
      "2         16.37     Rice, paddy        23333  \n",
      "3         16.37         Sorghum        12500  \n",
      "4         16.37        Soybeans         7000  \n",
      "...         ...             ...          ...  \n",
      "28243     19.76     Rice, paddy        22581  \n",
      "28244     19.76         Sorghum         3066  \n",
      "28245     19.76        Soybeans        13142  \n",
      "28246     19.76  Sweet potatoes        22222  \n",
      "28247     19.76           Wheat        22888  \n",
      "\n",
      "[28248 rows x 7 columns]\n"
     ]
    }
   ],
   "source": [
    "# rename, drop and merging of data\n",
    "df1=df1.drop(['Element','Domain','Unit','Item'], axis=1)\n",
    "df1=df1.rename(index=str, columns={'Value':'Pesticides (in tonnes)'})\n",
    "\n",
    "df2 = df2.rename(index=str, columns={\" Area\": 'Area'})\n",
    "df2['average_rain_fall_mm_per_year'] = pd.to_numeric(df2['average_rain_fall_mm_per_year'],errors = 'coerce')\n",
    "\n",
    "df=pd.merge(df1,df2, on=['Area', 'Year'])\n",
    "\n",
    "df3 = df3.rename(index=str, columns={\"year\": \"Year\", \"country\":'Area'})\n",
    "df=pd.merge(df,df3, on=['Area','Year'])\n",
    "\n",
    "df4 = df4.rename(index=str, columns={\"Value\": \"hg/ha_yield\"})\n",
    "df4 = df4.drop(['Year Code','Element Code','Element','Year Code','Area Code','Domain Code','Domain','Unit','Item Code'], axis=1)\n",
    "\n",
    "df=pd.merge(df,df4, on=['Area', 'Year'])\n",
    "print('Initial DataFrame after merging \\n',df)"
   ]
  },
  {
   "cell_type": "code",
   "execution_count": 4,
   "metadata": {},
   "outputs": [
    {
     "name": "stdout",
     "output_type": "stream",
     "text": [
      "Checking the Null Values \n",
      " Area                             0\n",
      "Year                             0\n",
      "Pesticides (in tonnes)           0\n",
      "average_rain_fall_mm_per_year    6\n",
      "avg_temp                         0\n",
      "Item                             0\n",
      "hg/ha_yield                      0\n",
      "dtype: int64\n"
     ]
    }
   ],
   "source": [
    "# Finding the Null Values\n",
    "print('Checking the Null Values \\n',df.isnull().sum())"
   ]
  },
  {
   "cell_type": "code",
   "execution_count": 5,
   "metadata": {},
   "outputs": [
    {
     "name": "stdout",
     "output_type": "stream",
     "text": [
      "Verifying the NUll Values agian after replacing with mean \n",
      " Area                             0\n",
      "Year                             0\n",
      "Pesticides (in tonnes)           0\n",
      "average_rain_fall_mm_per_year    0\n",
      "avg_temp                         0\n",
      "Item                             0\n",
      "hg/ha_yield                      0\n",
      "dtype: int64\n"
     ]
    }
   ],
   "source": [
    "mean = df['average_rain_fall_mm_per_year'].mean()\n",
    "df['average_rain_fall_mm_per_year'].fillna(value = mean, inplace=True)\n",
    "print('Verifying the NUll Values agian after replacing with mean \\n',df.isnull().sum())"
   ]
  },
  {
   "cell_type": "code",
   "execution_count": 6,
   "metadata": {},
   "outputs": [
    {
     "name": "stdout",
     "output_type": "stream",
     "text": [
      "Checking the datatypes \n",
      " Area                              object\n",
      "Year                               int64\n",
      "Pesticides (in tonnes)           float64\n",
      "average_rain_fall_mm_per_year    float64\n",
      "avg_temp                         float64\n",
      "Item                              object\n",
      "hg/ha_yield                        int64\n",
      "dtype: object\n"
     ]
    }
   ],
   "source": [
    "# Checking the datatypes\n",
    "print('Checking the datatypes \\n',df.dtypes)"
   ]
  },
  {
   "cell_type": "code",
   "execution_count": 7,
   "metadata": {},
   "outputs": [
    {
     "name": "stdout",
     "output_type": "stream",
     "text": [
      "DataFrame after indexing \n",
      "            Area            Item  Year  Pesticides (in tonnes)  \\\n",
      "0       Albania           Maize  1990                  121.00   \n",
      "1       Albania        Potatoes  1990                  121.00   \n",
      "2       Albania     Rice, paddy  1990                  121.00   \n",
      "3       Albania         Sorghum  1990                  121.00   \n",
      "4       Albania        Soybeans  1990                  121.00   \n",
      "...         ...             ...   ...                     ...   \n",
      "28243  Zimbabwe     Rice, paddy  2013                 2550.07   \n",
      "28244  Zimbabwe         Sorghum  2013                 2550.07   \n",
      "28245  Zimbabwe        Soybeans  2013                 2550.07   \n",
      "28246  Zimbabwe  Sweet potatoes  2013                 2550.07   \n",
      "28247  Zimbabwe           Wheat  2013                 2550.07   \n",
      "\n",
      "       average_rain_fall_mm_per_year  avg_temp  hg/ha_yield  \n",
      "0                             1485.0     16.37        36613  \n",
      "1                             1485.0     16.37        66667  \n",
      "2                             1485.0     16.37        23333  \n",
      "3                             1485.0     16.37        12500  \n",
      "4                             1485.0     16.37         7000  \n",
      "...                              ...       ...          ...  \n",
      "28243                          657.0     19.76        22581  \n",
      "28244                          657.0     19.76         3066  \n",
      "28245                          657.0     19.76        13142  \n",
      "28246                          657.0     19.76        22222  \n",
      "28247                          657.0     19.76        22888  \n",
      "\n",
      "[28248 rows x 7 columns]\n"
     ]
    }
   ],
   "source": [
    "# Re-indexing the columns\n",
    "df = df.reindex(columns=['Area','Item', 'Year', 'Pesticides (in tonnes)', 'average_rain_fall_mm_per_year', 'avg_temp','hg/ha_yield'])\n",
    "print('DataFrame after indexing \\n',df) "
   ]
  },
  {
   "cell_type": "code",
   "execution_count": 8,
   "metadata": {},
   "outputs": [
    {
     "data": {
      "text/html": [
       "<div>\n",
       "<style scoped>\n",
       "    .dataframe tbody tr th:only-of-type {\n",
       "        vertical-align: middle;\n",
       "    }\n",
       "\n",
       "    .dataframe tbody tr th {\n",
       "        vertical-align: top;\n",
       "    }\n",
       "\n",
       "    .dataframe thead th {\n",
       "        text-align: right;\n",
       "    }\n",
       "</style>\n",
       "<table border=\"1\" class=\"dataframe\">\n",
       "  <thead>\n",
       "    <tr style=\"text-align: right;\">\n",
       "      <th></th>\n",
       "      <th>Area</th>\n",
       "      <th>Item</th>\n",
       "      <th>Pesticides (in tonnes)</th>\n",
       "      <th>average_rain_fall_mm_per_year</th>\n",
       "      <th>avg_temp</th>\n",
       "      <th>hg/ha_yield</th>\n",
       "    </tr>\n",
       "  </thead>\n",
       "  <tbody>\n",
       "    <tr>\n",
       "      <th>0</th>\n",
       "      <td>Albania</td>\n",
       "      <td>Maize</td>\n",
       "      <td>121.0</td>\n",
       "      <td>1485.0</td>\n",
       "      <td>16.37</td>\n",
       "      <td>36613</td>\n",
       "    </tr>\n",
       "    <tr>\n",
       "      <th>1</th>\n",
       "      <td>Albania</td>\n",
       "      <td>Potatoes</td>\n",
       "      <td>121.0</td>\n",
       "      <td>1485.0</td>\n",
       "      <td>16.37</td>\n",
       "      <td>66667</td>\n",
       "    </tr>\n",
       "    <tr>\n",
       "      <th>2</th>\n",
       "      <td>Albania</td>\n",
       "      <td>Rice, paddy</td>\n",
       "      <td>121.0</td>\n",
       "      <td>1485.0</td>\n",
       "      <td>16.37</td>\n",
       "      <td>23333</td>\n",
       "    </tr>\n",
       "    <tr>\n",
       "      <th>3</th>\n",
       "      <td>Albania</td>\n",
       "      <td>Sorghum</td>\n",
       "      <td>121.0</td>\n",
       "      <td>1485.0</td>\n",
       "      <td>16.37</td>\n",
       "      <td>12500</td>\n",
       "    </tr>\n",
       "    <tr>\n",
       "      <th>4</th>\n",
       "      <td>Albania</td>\n",
       "      <td>Soybeans</td>\n",
       "      <td>121.0</td>\n",
       "      <td>1485.0</td>\n",
       "      <td>16.37</td>\n",
       "      <td>7000</td>\n",
       "    </tr>\n",
       "  </tbody>\n",
       "</table>\n",
       "</div>"
      ],
      "text/plain": [
       "      Area         Item  Pesticides (in tonnes)  \\\n",
       "0  Albania        Maize                   121.0   \n",
       "1  Albania     Potatoes                   121.0   \n",
       "2  Albania  Rice, paddy                   121.0   \n",
       "3  Albania      Sorghum                   121.0   \n",
       "4  Albania     Soybeans                   121.0   \n",
       "\n",
       "   average_rain_fall_mm_per_year  avg_temp  hg/ha_yield  \n",
       "0                         1485.0     16.37        36613  \n",
       "1                         1485.0     16.37        66667  \n",
       "2                         1485.0     16.37        23333  \n",
       "3                         1485.0     16.37        12500  \n",
       "4                         1485.0     16.37         7000  "
      ]
     },
     "execution_count": 8,
     "metadata": {},
     "output_type": "execute_result"
    }
   ],
   "source": [
    "# Removing the unwanted column (Year)\n",
    "df=df.drop(labels='Year',axis=1)\n",
    "df.head()"
   ]
  },
  {
   "cell_type": "code",
   "execution_count": 9,
   "metadata": {},
   "outputs": [
    {
     "name": "stdout",
     "output_type": "stream",
     "text": [
      "Boxplot \n",
      " AxesSubplot(0.125,0.125;0.775x0.755)\n"
     ]
    },
    {
     "data": {
      "image/png": "[encoded data removed]",
      "text/plain": [
       "<Figure size 432x288 with 1 Axes>"
      ]
     },
     "metadata": {
      "needs_background": "light"
     },
     "output_type": "display_data"
    }
   ],
   "source": [
    "# Checking the outliers via Boxplot\n",
    "cols=list(df.iloc[:,2:])\n",
    "print('Boxplot \\n',df.boxplot(cols))"
   ]
  },
  {
   "cell_type": "code",
   "execution_count": 10,
   "metadata": {},
   "outputs": [],
   "source": [
    "# Outliers function to remove outliers\n",
    "def outliers_function(df):\n",
    "    q1,q3=df.quantile(0.25),df.quantile(0.75)\n",
    "    IQR=q3-q1\n",
    "    low, high=(df<(q1-1.5*IQR)), (df>(q3+1.5*IQR))\n",
    "    outliers_dropped = df[~(low|high).any(axis=1)]\n",
    "    return outliers_dropped"
   ]
  },
  {
   "cell_type": "code",
   "execution_count": 11,
   "metadata": {},
   "outputs": [
    {
     "name": "stdout",
     "output_type": "stream",
     "text": [
      "Printing the clean_data \n",
      "       Area         Item  Pesticides (in tonnes)  \\\n",
      "0  Albania        Maize                   121.0   \n",
      "1  Albania     Potatoes                   121.0   \n",
      "2  Albania  Rice, paddy                   121.0   \n",
      "3  Albania      Sorghum                   121.0   \n",
      "4  Albania     Soybeans                   121.0   \n",
      "\n",
      "   average_rain_fall_mm_per_year  avg_temp  hg/ha_yield  \n",
      "0                         1485.0     16.37        36613  \n",
      "1                         1485.0     16.37        66667  \n",
      "2                         1485.0     16.37        23333  \n",
      "3                         1485.0     16.37        12500  \n",
      "4                         1485.0     16.37         7000  \n"
     ]
    }
   ],
   "source": [
    "data_clean=outliers_function(df)\n",
    "print('Printing the clean_data \\n',data_clean.head())"
   ]
  },
  {
   "cell_type": "code",
   "execution_count": 12,
   "metadata": {},
   "outputs": [
    {
     "name": "stdout",
     "output_type": "stream",
     "text": [
      "Max value of Pesticides (in tonnes) =  118930.56\n",
      "Max value of average_rain_fall_mm_per_year =  3240.0\n",
      "Max value of avg_temp =  30.65\n",
      "Max value of hg/ha_yield =  231535\n"
     ]
    }
   ],
   "source": [
    "# Maximum Value of features\n",
    "print('Max value of Pesticides (in tonnes) = ',max(data_clean['Pesticides (in tonnes)']))\n",
    "print('Max value of average_rain_fall_mm_per_year = ',max(data_clean['average_rain_fall_mm_per_year']))\n",
    "print('Max value of avg_temp = ',max(data_clean['avg_temp']))\n",
    "print('Max value of hg/ha_yield = ',max(data_clean['hg/ha_yield']))"
   ]
  },
  {
   "cell_type": "code",
   "execution_count": 13,
   "metadata": {},
   "outputs": [
    {
     "name": "stdout",
     "output_type": "stream",
     "text": [
      "Min value of Pesticides (in tonnes) =  0.04\n",
      "Min value of average_rain_fall_mm_per_year =  51.0\n",
      "Min value of avg_temp =  2.78\n",
      "Min value of hg/ha_yield =  50\n"
     ]
    }
   ],
   "source": [
    "# Minimum Value of features\n",
    "print('Min value of Pesticides (in tonnes) = ',min(data_clean['Pesticides (in tonnes)']))\n",
    "print('Min value of average_rain_fall_mm_per_year = ',min(data_clean['average_rain_fall_mm_per_year']))\n",
    "print('Min value of avg_temp = ',min(data_clean['avg_temp']))\n",
    "print('Min value of hg/ha_yield = ',min(data_clean['hg/ha_yield']))"
   ]
  },
  {
   "cell_type": "code",
   "execution_count": 14,
   "metadata": {},
   "outputs": [],
   "source": [
    "features=data_clean.iloc[:,:5]\n",
    "label=data_clean.iloc[:,5:]"
   ]
  },
  {
   "cell_type": "code",
   "execution_count": 15,
   "metadata": {},
   "outputs": [
    {
     "name": "stdout",
     "output_type": "stream",
     "text": [
      "Dumped the data into the Pickles!!\n"
     ]
    }
   ],
   "source": [
    "pickle.dump(features, open('features.pkl', 'wb'))\n",
    "print(\"Dumped the data into the Pickles!!\")"
   ]
  },
  {
   "cell_type": "code",
   "execution_count": 16,
   "metadata": {},
   "outputs": [],
   "source": [
    "# Converting categorical data into numerical data\n",
    "data_clean=pd.get_dummies(data_clean, columns=['Area',\"Item\"], prefix = ['Country',\"Item\"])\n",
    "features=data_clean.loc[:, data_clean.columns != 'hg/ha_yield']\n",
    "label=data_clean['hg/ha_yield']"
   ]
  },
  {
   "cell_type": "code",
   "execution_count": 17,
   "metadata": {},
   "outputs": [],
   "source": [
    "# Splitting the data\n",
    "train_data, test_data, train_labels, test_labels = train_test_split(features, label, test_size=0.3, random_state=42)"
   ]
  },
  {
   "cell_type": "code",
   "execution_count": 18,
   "metadata": {},
   "outputs": [],
   "source": [
    "# Normalizing the data\n",
    "scaler=MinMaxScaler()\n",
    "train_data=scaler.fit_transform(train_data) \n",
    "test_data=scaler.transform(test_data)"
   ]
  },
  {
   "cell_type": "code",
   "execution_count": 19,
   "metadata": {},
   "outputs": [],
   "source": [
    "# Class for KNN Regressor Implementation\n",
    "class knn():\n",
    "    def __init__(self, num_neighbors = 5):\n",
    "        self.num_neighbors = num_neighbors\n",
    "        self.X_train = None\n",
    "        self.Y_train = None\n",
    "     \n",
    "    # Storing the Data\n",
    "    def fit(self, X_train, Y_train):\n",
    "        self.X_train = X_train\n",
    "        self.Y_train = Y_train\n",
    "    \n",
    "    # Calculating the distances from all records in training set to a test example\n",
    "    def distance_calculator(self, X_train, X_test):\n",
    "        distance = np.sqrt(np.sum(np.square(X_train - X_test), axis = 1))\n",
    "        return distance\n",
    "    \n",
    "    # Finding the indices of k nearest neighbors\n",
    "    def neighbour_finder(self, X_train, X_test, Y_train):\n",
    "        distances = self.distance_calculator(X_train, X_test)\n",
    "        sorted_distances = np.sort(distances)[:self.num_neighbors]\n",
    "        index = []\n",
    "        for sd in sorted_distances:\n",
    "            index.append([l.tolist() for l in np.where(distances == sd)])\n",
    "        index=sum(sum(index,[]),[])   \n",
    "        labels = Y_train[index]\n",
    "        return np.mean(labels)\n",
    "    \n",
    "    # Predicting using KNN\n",
    "    def predict(self, X_test):\n",
    "        op = []\n",
    "        for rec in X_test:\n",
    "            op.append(self.neighbour_finder(self.X_train, rec, self.Y_train))\n",
    "        return op"
   ]
  },
  {
   "cell_type": "code",
   "execution_count": 20,
   "metadata": {},
   "outputs": [],
   "source": [
    "# Creating the KNN Regressor\n",
    "knn_regressor=knn()\n",
    "# Training the model\n",
    "ss1 = time.time()\n",
    "knn_regressor.fit(train_data, np.array(train_labels))\n",
    "ee1 = time.time()\n",
    "kt=ee1-ss1"
   ]
  },
  {
   "cell_type": "code",
   "execution_count": 21,
   "metadata": {},
   "outputs": [],
   "source": [
    "# Prediction on test data\n",
    "s1 = time.time()\n",
    "output=knn_regressor.predict(test_data)\n",
    "e1 = time.time()\n",
    "knn_time=e1-s1"
   ]
  },
  {
   "cell_type": "code",
   "execution_count": 22,
   "metadata": {},
   "outputs": [
    {
     "name": "stdout",
     "output_type": "stream",
     "text": [
      "Dumped the data into the Pickles!!\n"
     ]
    }
   ],
   "source": [
    "# we could say that with 95% confidence the expected value of the output lies between 0.979 and 1.021\n",
    "# Which is significantly and positively skewed.\n",
    "m=np.mean(output)\n",
    "s=np.std(output)\n",
    "diff=len(output)-1\n",
    "confi=0.95\n",
    "# t-value\n",
    "t_val = np.abs(t.ppf((1-confi)/2,diff))\n",
    "CI_1 = (m-s*t_val/np.sqrt(len(output)), m+s*t_val/np.sqrt(len(output)))/m\n",
    "\n",
    "pickle.dump(CI_1, open('CI_1.pkl', 'wb'))\n",
    "print(\"Dumped the data into the Pickles!!\")"
   ]
  },
  {
   "cell_type": "code",
   "execution_count": 23,
   "metadata": {},
   "outputs": [
    {
     "name": "stdout",
     "output_type": "stream",
     "text": [
      "The R2_Score of KNN model is  0.9423940407864493\n",
      "The MAE of KNN model is  6359.293035180446\n",
      "The MSE of KNN model is  178449953.68015808\n",
      "The RMSE of KNN model is  13358.516148141533\n",
      "The NRMSE of KNN model is  0.05776755553887\n",
      "The confidence interval of KNN model is  [0.97883873 1.02116127]\n",
      "Execution Time for fitting of KNN Model is  0.00010228157043457031\n",
      "Execution Time for predicting of KNN Model is  31.183881998062134\n"
     ]
    }
   ],
   "source": [
    "# R2_Score Calculation\n",
    "r2 = r2_score(test_labels,output)\n",
    "print(\"The R2_Score of KNN model is \",r2)\n",
    "MAE = np.mean(abs(test_labels - output), axis=0)\n",
    "print(\"The MAE of KNN model is \",MAE)\n",
    "MSE = np.square(np.subtract(test_labels,output)).mean() \n",
    "print(\"The MSE of KNN model is \",MSE)\n",
    "RMSE = math.sqrt(MSE)\n",
    "print(\"The RMSE of KNN model is \", RMSE)\n",
    "NRMSE = RMSE/(max(test_labels)-min(test_labels))\n",
    "print(\"The NRMSE of KNN model is \",NRMSE)\n",
    "print(\"The confidence interval of KNN model is \",CI_1)\n",
    "print('Execution Time for fitting of KNN Model is ',kt)\n",
    "print('Execution Time for predicting of KNN Model is ',knn_time)"
   ]
  },
  {
   "cell_type": "code",
   "execution_count": 24,
   "metadata": {},
   "outputs": [
    {
     "name": "stdout",
     "output_type": "stream",
     "text": [
      "Dumped the data into the Pickles!!\n"
     ]
    }
   ],
   "source": [
    "pickle.dump(r2, open('r2.pkl', 'wb'))\n",
    "pickle.dump(knn_regressor, open('knn_regressor.pkl', 'wb'))\n",
    "print(\"Dumped the data into the Pickles!!\")"
   ]
  },
  {
   "cell_type": "code",
   "execution_count": 25,
   "metadata": {},
   "outputs": [],
   "source": [
    "# Class for Gradient Descent Implementation\n",
    "class Gradient_descent():\n",
    "    def __init__(self, epochs = 200, max_depth=3, batch_size = 1000, learning_rate = 0.05, lamb = 0.1, random_state=0):\n",
    "        self.weights = None\n",
    "        self.bias = 0\n",
    "        self.loss_mat =  []\n",
    "        self.epochs = epochs\n",
    "        self.batch_size = batch_size\n",
    "        self.alpha = learning_rate\n",
    "        self.lamb = lamb\n",
    "        \n",
    "    # Training the model    \n",
    "    def fit(self, input, label):\n",
    "        self.weights = np.random.rand(np.shape(input)[1])\n",
    "        self.m = np.shape(input)[0]\n",
    "        num_batches = self.m//self.batch_size\n",
    "        print(num_batches)\n",
    "        for num_epoch in range(self.epochs):\n",
    "            if num_epoch % 1000 == 0:\n",
    "                print(num_epoch ,\" training\")\n",
    "            loss = []\n",
    "            for i in range(num_batches):\n",
    "                end_size = (i+1)*self.batch_size\n",
    "                if i == num_batches:\n",
    "                    end_size = self.m\n",
    "                batch_input = input[self.batch_size * i : end_size]\n",
    "                batch_label = label[self.batch_size * i : end_size]\n",
    "                batch_size = np.shape(batch_input)[0]\n",
    "                pred = self.forward_prop(batch_input)\n",
    "                curr_loss = self.backward_prop(batch_input, batch_label, pred, batch_size)\n",
    "                loss.append(curr_loss)\n",
    "            self.loss_mat.append(sum(loss))\n",
    "    \n",
    "    # Forward propagation - predicting for training examples\n",
    "    def forward_prop(self, input):\n",
    "        return np.dot(input, self.weights) + self.bias\n",
    "    \n",
    "    def backward_prop(self, input, y, pred, m):\n",
    "        loss = (1/(2*m))*np.sum((y-pred)**2)\n",
    "        slope = (1/m)*(np.dot(input.T, pred- y) + self.lamb * self.weights)\n",
    "        self.weights -= self.alpha * slope\n",
    "        self.bias -= (1/m)*self.alpha* np.sum(pred- y)\n",
    "        return loss\n",
    "        \n",
    "    def plot_loss(self):\n",
    "        plt.plot(self.loss_mat)"
   ]
  },
  {
   "cell_type": "code",
   "execution_count": 26,
   "metadata": {},
   "outputs": [
    {
     "name": "stdout",
     "output_type": "stream",
     "text": [
      "17\n",
      "0  training\n",
      "1000  training\n"
     ]
    }
   ],
   "source": [
    "# Creating the Gradient Descent Regressor\n",
    "gradient_regressor = Gradient_descent(epochs = 1001, max_depth=3, lamb = 0.1, random_state=0)\n",
    "# Training the model\n",
    "ss2 = time.time()\n",
    "gradient_regressor.fit(train_data, train_labels)\n",
    "ee2 = time.time()\n",
    "gt=ee2-ss2"
   ]
  },
  {
   "cell_type": "code",
   "execution_count": 27,
   "metadata": {},
   "outputs": [
    {
     "data": {
      "image/png": "[encoded data removed]",
      "text/plain": [
       "<Figure size 432x288 with 1 Axes>"
      ]
     },
     "metadata": {
      "needs_background": "light"
     },
     "output_type": "display_data"
    }
   ],
   "source": [
    "# For plotting the loss\n",
    "gradient_regressor.plot_loss()"
   ]
  },
  {
   "cell_type": "code",
   "execution_count": 28,
   "metadata": {},
   "outputs": [],
   "source": [
    "s2 = time.time()\n",
    "test_pred = gradient_regressor.forward_prop(test_data)\n",
    "e2 = time.time()\n",
    "gradient_time=e2-s2"
   ]
  },
  {
   "cell_type": "code",
   "execution_count": 29,
   "metadata": {},
   "outputs": [],
   "source": [
    "m1=np.mean(test_pred)\n",
    "s1=np.std(test_pred)\n",
    "diff1=len(test_pred)-1\n",
    "confi1=0.95\n",
    "# t-value\n",
    "t_val1 = np.abs(t.ppf((1-confi1)/2,diff1))\n",
    "CI_2 = (m1-s1*t_val1/np.sqrt(len(test_pred)), m1+s1*t_val1/np.sqrt(len(test_pred)))/m1"
   ]
  },
  {
   "cell_type": "code",
   "execution_count": 30,
   "metadata": {},
   "outputs": [
    {
     "name": "stdout",
     "output_type": "stream",
     "text": [
      "The R2_Score of Gradient Descent model is  0.771234495362196\n",
      "The MAE of Gradient Descent model is  18920.291097017536\n",
      "The MSE of Gradient Descent model is  708662684.6173767\n",
      "The RMSE of Gradient Descent model is  26620.719085279736\n",
      "The NRMSE of Gradient Descent model is  0.11511861431237615\n",
      "The confidence interval of Gradient Descent model is  [0.98092217 1.01907783]\n",
      "Execution Time for fitting of Gradient Descent Model is  12.960124254226685\n",
      "Execution Time for predicting of Gradient Descent Model is  0.0013971328735351562\n"
     ]
    }
   ],
   "source": [
    "# R2_Score Calculation\n",
    "print(\"The R2_Score of Gradient Descent model is \",r2_score(test_labels,test_pred))\n",
    "MAE = np.mean(abs(test_labels - test_pred), axis=0)\n",
    "print(\"The MAE of Gradient Descent model is \",MAE)\n",
    "MSE = np.square(np.subtract(test_labels,test_pred)).mean()\n",
    "print(\"The MSE of Gradient Descent model is \",MSE)\n",
    "RMSE = math.sqrt(MSE)\n",
    "print(\"The RMSE of Gradient Descent model is \",RMSE)\n",
    "NRMSE = RMSE/(max(test_labels)-min(test_labels))\n",
    "print(\"The NRMSE of Gradient Descent model is \",NRMSE)\n",
    "print(\"The confidence interval of Gradient Descent model is \",CI_2)\n",
    "print('Execution Time for fitting of Gradient Descent Model is ',gt)\n",
    "print('Execution Time for predicting of Gradient Descent Model is ',gradient_time)"
   ]
  },
  {
   "cell_type": "code",
   "execution_count": 31,
   "metadata": {},
   "outputs": [],
   "source": [
    "# Node definition for decision tree\n",
    "class Node():\n",
    "    def __init__(self, index=None, limit=None, left=None, right=None, variance_reduc=None, val=None):\n",
    "        self.index = index\n",
    "        self.limit = limit\n",
    "        self.left = left\n",
    "        self.right = right\n",
    "        self.variance_reduc = variance_reduc\n",
    "        self.val = val"
   ]
  },
  {
   "cell_type": "code",
   "execution_count": 32,
   "metadata": {},
   "outputs": [],
   "source": [
    "# Class for Decision Model Implementation\n",
    "class DecisionTreeRegressor():\n",
    "    def __init__(self, minimum_sample_splits, maximum_depth):\n",
    "        # root of the tree and stopping conditions initialization\n",
    "        self.root = None\n",
    "        self.minimum_sample_splits = minimum_sample_splits\n",
    "        self.maximum_depth = maximum_depth\n",
    "    \n",
    "    # Tree Building Recursive Function\n",
    "    def tree_building(self, ds, temp_depth=0):\n",
    "        f, l = ds[:,:-1], ds[:,-1]\n",
    "        ns, nf = np.shape(f)\n",
    "        bs = {}\n",
    "        # Trying to split until stopping conditions are reached and returnig the tree\n",
    "        if ns>=self.minimum_sample_splits and temp_depth<=self.maximum_depth:\n",
    "            bs = self.split_best(ds, ns, nf)\n",
    "            if bs[\"variance_reduc\"]>0:\n",
    "                lst = self.tree_building(bs[\"ld\"], temp_depth+1)\n",
    "                rst = self.tree_building(bs[\"rd\"], temp_depth+1)\n",
    "                return Node(bs[\"index\"], bs[\"limit\"], \n",
    "                            lst, rst, bs[\"variance_reduc\"])\n",
    "        lv = self.lv_calculation(l)\n",
    "        return Node(val=lv)\n",
    "    \n",
    "    # Function to find the split best\n",
    "    def split_best(self, ds, ns, nf):\n",
    "        maximum_variance_reduc = -float(\"inf\")\n",
    "        bs = {}\n",
    "        for index in range(nf):\n",
    "            fv = ds[:, index]\n",
    "            pt = np.unique(fv)\n",
    "            for limit in pt:\n",
    "                ld, rd = self.split(ds, index, limit)\n",
    "                if len(ld)>0 and len(rd)>0:\n",
    "                    y, ly, ry = ds[:, -1], ld[:, -1], rd[:, -1]\n",
    "                    temp_vari_redi = self.variance_reduction(y, ly, ry)\n",
    "                    if temp_vari_redi>maximum_variance_reduc:\n",
    "                        bs[\"index\"] = index\n",
    "                        bs[\"limit\"] = limit\n",
    "                        bs[\"ld\"] = ld\n",
    "                        bs[\"rd\"] = rd\n",
    "                        bs[\"variance_reduc\"] = temp_vari_redi\n",
    "                        maximum_variance_reduc = temp_vari_redi\n",
    "        return bs\n",
    "    \n",
    "    # Data splitting Function\n",
    "    def split(self, ds, index, limit):        \n",
    "        ld = np.array([i for i in ds if i[index]<=limit])\n",
    "        rd = np.array([i for i in ds if i[index]>limit])\n",
    "        return ld, rd\n",
    "    \n",
    "    # Varinace reduction calculation Function\n",
    "    def variance_reduction(self, main, lc, rc):\n",
    "        wl = len(lc)/len(main)\n",
    "        wr = len(rc)/len(main)\n",
    "        reduction = np.var(main) - (wl * np.var(lc) + wr * np.var(rc))\n",
    "        return reduction\n",
    "    \n",
    "    # Leaf node calculation Function\n",
    "    def lv_calculation(self, le):        \n",
    "        res = np.mean(le)\n",
    "        return res\n",
    "     \n",
    "    # Functiion for tree printing\n",
    "    def tree_printing(self, t=None, inde=\" \"):      \n",
    "        if not t:\n",
    "            t = self.root\n",
    "        if t.val is not None:\n",
    "            print(t.val)\n",
    "        else:\n",
    "            print(\"X_\"+str(t.index), \"<=\", t.limit, \"?\", t.variance_reduc)\n",
    "            print(\"%sleft:\" % (inde), end=\"\")\n",
    "            self.tree_printing(t.left, inde + inde)\n",
    "            print(\"%sright:\" % (inde), end=\"\")\n",
    "            self.tree_printing(t.right, inde + inde)\n",
    "    \n",
    "    # Function for tree training\n",
    "    def fit(self, f, l):        \n",
    "        ds = np.concatenate((f, l), axis=1)\n",
    "        self.root = self.tree_building(ds)\n",
    "    \n",
    "    # Function to predict data points\n",
    "    def prediction(self, x, t):\n",
    "        if t.val!=None: return t.val\n",
    "        fv = x[t.index]\n",
    "        if fv<=t.limit:\n",
    "            return self.prediction(x, t.left)\n",
    "        else:\n",
    "            return self.prediction(x, t.right)\n",
    "    \n",
    "    # Function to predict one data point\n",
    "    def predict(self, f):        \n",
    "        preditions = [self.prediction(i, self.root) for i in f]\n",
    "        return preditions"
   ]
  },
  {
   "cell_type": "code",
   "execution_count": 33,
   "metadata": {},
   "outputs": [],
   "source": [
    "train_labels = train_labels.values.reshape((train_labels.shape[0],1))"
   ]
  },
  {
   "cell_type": "code",
   "execution_count": 34,
   "metadata": {},
   "outputs": [],
   "source": [
    "# Creating the decision tree object\n",
    "decision_regressor = DecisionTreeRegressor(minimum_sample_splits=2, maximum_depth=6)\n",
    "# Training the decision tree\n",
    "ss3 = time.time()\n",
    "decision_regressor.fit(train_data, train_labels)\n",
    "ee3 = time.time()\n",
    "# Prediction on testing data\n",
    "s3 = time.time()\n",
    "test_predict=decision_regressor.predict(test_data)\n",
    "e3 = time.time()\n",
    "dt=ee3-ss3\n",
    "decision_time=e3-s3"
   ]
  },
  {
   "cell_type": "code",
   "execution_count": 35,
   "metadata": {},
   "outputs": [],
   "source": [
    "m2=np.mean(test_predict)\n",
    "s2=np.std(test_predict)\n",
    "diff2=len(test_predict)-1\n",
    "confi2=0.95\n",
    "# t-value\n",
    "t_val2 = np.abs(t.ppf((1-confi2)/2,diff2))\n",
    "CI_3 = (m2-s2*t_val2/np.sqrt(len(test_predict)), m2+s2*t_val2/np.sqrt(len(test_predict)))/m2"
   ]
  },
  {
   "cell_type": "code",
   "execution_count": 36,
   "metadata": {},
   "outputs": [
    {
     "name": "stdout",
     "output_type": "stream",
     "text": [
      "The R2_Score of Decision tree model is  0.8278643570236979\n",
      "The MAE of Decision tree model is  15854.360765479903\n",
      "The MSE of Decision tree model is  533236455.6582112\n",
      "The RMSE of Decision tree model is  23091.913209134735\n",
      "The NRMSE of Decision tree model is  0.09985864927019164\n",
      "The confidence interval of Decision model is  [0.98024694 1.01975306]\n",
      "Execution Time for fitting of Decision Model is  419.21041798591614\n",
      "Execution Time for predicting of Decision Model is  0.026053190231323242\n"
     ]
    }
   ],
   "source": [
    "# R2_Score Calculation\n",
    "print(\"The R2_Score of Decision tree model is \",r2_score(test_labels,test_predict))\n",
    "MAE = np.mean(abs(test_labels - test_predict), axis=0)\n",
    "print(\"The MAE of Decision tree model is \",MAE)\n",
    "MSE = np.square(np.subtract(test_labels,test_predict)).mean()\n",
    "print(\"The MSE of Decision tree model is \",MSE)\n",
    "RMSE = math.sqrt(MSE)\n",
    "print(\"The RMSE of Decision tree model is \",RMSE)\n",
    "NRMSE = RMSE/(max(test_labels)-min(test_labels))\n",
    "print(\"The NRMSE of Decision tree model is \",NRMSE)\n",
    "print(\"The confidence interval of Decision model is \",CI_3)\n",
    "print('Execution Time for fitting of Decision Model is ',dt)\n",
    "print('Execution Time for predicting of Decision Model is ',decision_time)"
   ]
  },
  {
   "cell_type": "code",
   "execution_count": null,
   "metadata": {},
   "outputs": [],
   "source": []
  }
 ],
 "metadata": {
  "kernelspec": {
   "display_name": "Python 3.9.7 ('base')",
   "language": "python",
   "name": "python3"
  },
  "language_info": {
   "codemirror_mode": {
    "name": "ipython",
    "version": 3
   },
   "file_extension": ".py",
   "mimetype": "text/x-python",
   "name": "python",
   "nbconvert_exporter": "python",
   "pygments_lexer": "ipython3",
   "version": "3.9.7"
  },
  "orig_nbformat": 4,
  "vscode": {
   "interpreter": {
    "hash": "37080d1b4185f0a07bd8d66a7809243baf1a538b6fb73ff609851ce69e01d705"
   }
  }
 },
 "nbformat": 4,
 "nbformat_minor": 2
}
